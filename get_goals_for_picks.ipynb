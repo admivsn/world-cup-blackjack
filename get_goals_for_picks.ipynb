{
 "cells": [
  {
   "cell_type": "raw",
   "metadata": {},
   "source": [
    "---\n",
    "title: \"World Cup Blackjack\"\n",
    "format:\n",
    "  html\n",
    "execute: \n",
    "  enabled: true\n",
    "  echo: false\n",
    "---"
   ]
  },
  {
   "cell_type": "code",
   "execution_count": null,
   "metadata": {
    "id": "KxWLlEeCTO6k"
   },
   "outputs": [],
   "source": [
    "import pandas as pd\n",
    "from datetime import datetime\n",
    "import warnings\n",
    "warnings.filterwarnings(\"ignore\")"
   ]
  },
  {
   "cell_type": "code",
   "execution_count": null,
   "metadata": {},
   "outputs": [],
   "source": [
    "# Pull the known results\n",
    "df_fixtures = pd.read_csv(\"https://fixturedownload.com/download/fifa-world-cup-2022-UTC.csv\")\n",
    "df_results = df_fixtures[df_fixtures[\"Result\"].notna()]"
   ]
  },
  {
   "cell_type": "code",
   "execution_count": null,
   "metadata": {},
   "outputs": [],
   "source": [
    "# Get the teams that still have fixtures\n",
    "active_teams = df_fixtures.loc[df_fixtures[\"Result\"].isna(), [\"Home Team\", \"Away Team\"]].stack().to_list()"
   ]
  },
  {
   "cell_type": "code",
   "execution_count": null,
   "metadata": {},
   "outputs": [],
   "source": [
    "# Get the latest date\n",
    "latest_date = df_results[\"Date\"].iloc[-1]"
   ]
  },
  {
   "cell_type": "code",
   "execution_count": null,
   "metadata": {},
   "outputs": [],
   "source": [
    "# Split Result into home goals and away goals\n",
    "df_results[\"Home Goals\"] = df_results[\"Result\"].apply(lambda x: int(x.split(\"-\")[0]))\n",
    "df_results[\"Away Goals\"] = df_results[\"Result\"].apply(lambda x: int(x.split(\"-\")[1]))"
   ]
  },
  {
   "cell_type": "code",
   "execution_count": null,
   "metadata": {},
   "outputs": [],
   "source": [
    "# Get the total goals, games, and fixtures for each team\n",
    "df_results = pd.concat(\n",
    "    [\n",
    "        df_results[[f\"{x} Team\", f\"{x} Goals\"]].rename(columns = lambda x: x.split(\" \")[1]) \n",
    "        for x in [\"Home\", \"Away\"]\n",
    "    ]\n",
    ")\n",
    "df_results = df_results.groupby(\"Team\")[\"Goals\"].agg(goals=\"sum\", results=\"size\").reset_index()\n",
    "df_results[\"fixtures\"] = df_results[\"Team\"].isin(active_teams)"
   ]
  },
  {
   "cell_type": "code",
   "execution_count": null,
   "metadata": {},
   "outputs": [],
   "source": [
    "# Read the players picks\n",
    "df_players_picks = pd.read_csv(\"df_players_picks.csv\", index_col=\"name\")"
   ]
  },
  {
   "cell_type": "code",
   "execution_count": null,
   "metadata": {},
   "outputs": [],
   "source": [
    "# Clean the players picks\n",
    "df_players_picks[\"picks\"] = df_players_picks[\"picks\"].apply(lambda x: x.replace(\"[\", \"\").replace(\"]\", \"\").replace(\"'\", \"\"))"
   ]
  },
  {
   "cell_type": "code",
   "execution_count": null,
   "metadata": {},
   "outputs": [],
   "source": [
    "# Convert the picks into seperate columns\n",
    "df_players_goals = pd.DataFrame(df_players_picks[\"picks\"].str.split(\", \").tolist(), index=df_players_picks.index)"
   ]
  },
  {
   "cell_type": "code",
   "execution_count": null,
   "metadata": {},
   "outputs": [],
   "source": [
    "# Convert to long\n",
    "df_players_goals = df_players_goals.stack().to_frame(\"Team\")\n",
    "df_players_goals.index = df_players_goals.index.droplevel(1)"
   ]
  },
  {
   "cell_type": "code",
   "execution_count": null,
   "metadata": {},
   "outputs": [],
   "source": [
    "# Join the goals and aggregate to each player\n",
    "df_players_goals = pd.merge(df_players_goals.reset_index(), df_results, on=\"Team\", how=\"left\").fillna(0)\n",
    "df_players_goals = df_players_goals.groupby(\"name\")[[\"goals\", \"results\", \"fixtures\"]].sum().astype(int)"
   ]
  },
  {
   "cell_type": "code",
   "execution_count": null,
   "metadata": {},
   "outputs": [],
   "source": [
    "# Join the total goals the the original dataframe\n",
    "df_players_picks_with_goals = df_players_picks.join(df_players_goals)"
   ]
  },
  {
   "cell_type": "code",
   "execution_count": null,
   "metadata": {},
   "outputs": [],
   "source": [
    "df_players_picks_with_goals = df_players_picks_with_goals.sort_values([\"goals\", \"results\", \"fixtures\"], ascending=False).reset_index()"
   ]
  },
  {
   "cell_type": "code",
   "execution_count": null,
   "metadata": {},
   "outputs": [],
   "source": [
    "# Colour the table based on top score or bust\n",
    "top_score = df_players_picks_with_goals[\"goals\"].apply(lambda x: 0 if x > 21 else x).max()\n",
    "\n",
    "def colour(x):\n",
    "    n_cols = len(x)\n",
    "    if x[\"goals\"] > 21:\n",
    "        c = \"red\"\n",
    "    elif x[\"goals\"] == top_score:\n",
    "        c = \"green\"\n",
    "    else:\n",
    "        return [None] * n_cols\n",
    "    return [f\"background-color: {c}\"] * n_cols\n",
    "\n",
    "df_players_picks_with_goals.style.apply(colour, axis=1)"
   ]
  },
  {
   "cell_type": "code",
   "execution_count": null,
   "metadata": {},
   "outputs": [],
   "source": [
    "print(f\"Latest result:  {latest_date}\")\n",
    "print(f\"Last refreshed: {datetime.now().strftime('%d/%m/%Y %H:%M')}\")"
   ]
  }
 ],
 "metadata": {
  "colab": {
   "authorship_tag": "ABX9TyN4ZO46E/6ZAp0VywIqnsTU",
   "include_colab_link": true,
   "provenance": []
  },
  "kernelspec": {
   "display_name": "Python 3.10.4 64-bit",
   "language": "python",
   "name": "python3"
  },
  "language_info": {
   "codemirror_mode": {
    "name": "ipython",
    "version": 3
   },
   "file_extension": ".py",
   "mimetype": "text/x-python",
   "name": "python",
   "nbconvert_exporter": "python",
   "pygments_lexer": "ipython3",
   "version": "3.10.4"
  },
  "vscode": {
   "interpreter": {
    "hash": "3ad933181bd8a04b432d3370b9dc3b0662ad032c4dfaa4e4f1596c548f763858"
   }
  }
 },
 "nbformat": 4,
 "nbformat_minor": 0
}
