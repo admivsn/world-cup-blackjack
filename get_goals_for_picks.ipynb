{
  "cells": [
    {
      "cell_type": "raw",
      "metadata": {},
      "source": [
        "---\n",
        "World Cup Blackjack\n",
        "format:\n",
        "    html:\n",
        "        code-fold: true\n",
        "execute: \n",
        "  enabled: true\n",
        "---"
      ]
    },
    {
      "cell_type": "code",
      "execution_count": null,
      "metadata": {
        "id": "KxWLlEeCTO6k"
      },
      "outputs": [],
      "source": [
        "import pandas as pd\n",
        "\n",
        "# Pull the known results\n",
        "df_fixtures = pd.read_csv(\"https://fixturedownload.com/download/fifa-world-cup-2022-UTC.csv\")\n",
        "df_results = df_fixtures[df_fixtures[\"Result\"].notna()]\n",
        "\n",
        "# Split Result into home goals and away goals\n",
        "df_results[\"Home Goals\"] = df_results[\"Result\"].apply(lambda x: int(x.split(\"-\")[0]))\n",
        "df_results[\"Away Goals\"] = df_results[\"Result\"].apply(lambda x: int(x.split(\"-\")[1]))\n",
        "\n",
        "# Get the total goals for each team\n",
        "df_goals = pd.concat(\n",
        "    [\n",
        "        df_results[[f\"{x} Team\", f\"{x} Goals\"]].rename(columns = lambda x: x.split(\" \")[1]) \n",
        "        for x in [\"Home\", \"Away\"]\n",
        "    ]\n",
        ")\n",
        "df_goals = df_goals.groupby(\"Team\")[[\"Goals\"]].sum().reset_index()\n",
        "\n",
        "# Read the players picks\n",
        "df_players_picks = pd.read_csv(\"df_players_picks.csv\")\n",
        "\n",
        "# Clean the players picks\n",
        "df_players_picks = df_players_picks.set_index(\"name\")\n",
        "df_players_picks[\"picks\"] = df_players_picks[\"picks\"].apply(lambda x: x.replace(\"[\", \"\").replace(\"]\", \"\").replace(\"'\", \"\"))\n",
        "\n",
        "\n",
        "# Convert the picks into seperate columns\n",
        "df_players_goals = pd.DataFrame(df_players_picks[\"picks\"].str.split(\", \").tolist(), index=df_players_picks.index)\n",
        "\n",
        "# Convert to long\n",
        "df_players_goals = df_players_goals.stack().to_frame(\"Team\")\n",
        "df_players_goals.index = df_players_goals.index.droplevel(1)\n",
        "\n",
        "# Join the goals and aggregate to each player\n",
        "df_players_goals = pd.merge(df_players_goals.reset_index(), df_goals, on=\"Team\", how=\"left\").fillna(0)\n",
        "df_players_goals = df_players_goals.groupby(\"name\")[[\"Goals\"]].sum().astype(int)\n",
        "\n",
        "# Join the total goals the the original dataframe\n",
        "df_players_picks_with_goals = df_players_picks.join(df_players_goals)\n",
        "\n",
        "df_players_picks_with_goals"
      ]
    }
  ],
  "metadata": {
    "colab": {
      "authorship_tag": "ABX9TyN4ZO46E/6ZAp0VywIqnsTU",
      "include_colab_link": true,
      "provenance": []
    },
    "kernelspec": {
      "display_name": "Python 3",
      "name": "python3"
    },
    "language_info": {
      "name": "python"
    }
  },
  "nbformat": 4,
  "nbformat_minor": 0
}
