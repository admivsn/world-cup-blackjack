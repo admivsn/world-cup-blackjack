{
 "cells": [
  {
   "cell_type": "raw",
   "metadata": {},
   "source": [
    "---\n",
    "title: \"World Cup Blackjack\"\n",
    "format:\n",
    "  html\n",
    "execute: \n",
    "  enabled: true\n",
    "  echo: false\n",
    "---"
   ]
  },
  {
   "cell_type": "code",
   "execution_count": 1,
   "metadata": {
    "id": "KxWLlEeCTO6k"
   },
   "outputs": [],
   "source": [
    "import pandas as pd\n",
    "import warnings\n",
    "warnings.filterwarnings('ignore')"
   ]
  },
  {
   "cell_type": "code",
   "execution_count": 2,
   "metadata": {},
   "outputs": [],
   "source": [
    "# Pull the known results\n",
    "df_fixtures = pd.read_csv(\"https://fixturedownload.com/download/fifa-world-cup-2022-UTC.csv\")\n",
    "df_results = df_fixtures[df_fixtures[\"Result\"].notna()]"
   ]
  },
  {
   "cell_type": "code",
   "execution_count": 3,
   "metadata": {},
   "outputs": [],
   "source": [
    "# Split Result into home goals and away goals\n",
    "df_results[\"Home Goals\"] = df_results[\"Result\"].apply(lambda x: int(x.split(\"-\")[0]))\n",
    "df_results[\"Away Goals\"] = df_results[\"Result\"].apply(lambda x: int(x.split(\"-\")[1]))"
   ]
  },
  {
   "cell_type": "code",
   "execution_count": 4,
   "metadata": {},
   "outputs": [],
   "source": [
    "# Get the total goals for each team\n",
    "df_goals = pd.concat(\n",
    "    [\n",
    "        df_results[[f\"{x} Team\", f\"{x} Goals\"]].rename(columns = lambda x: x.split(\" \")[1]) \n",
    "        for x in [\"Home\", \"Away\"]\n",
    "    ]\n",
    ")\n",
    "df_goals = df_goals.groupby(\"Team\")[[\"Goals\"]].sum().reset_index()"
   ]
  },
  {
   "cell_type": "code",
   "execution_count": 5,
   "metadata": {},
   "outputs": [],
   "source": [
    "# Read the players picks\n",
    "df_players_picks = pd.read_csv(\"df_players_picks.csv\")"
   ]
  },
  {
   "cell_type": "code",
   "execution_count": 6,
   "metadata": {},
   "outputs": [],
   "source": [
    "# Clean the players picks\n",
    "df_players_picks = df_players_picks.set_index(\"name\")\n",
    "df_players_picks[\"picks\"] = df_players_picks[\"picks\"].apply(lambda x: x.replace(\"[\", \"\").replace(\"]\", \"\").replace(\"'\", \"\"))"
   ]
  },
  {
   "cell_type": "code",
   "execution_count": 7,
   "metadata": {},
   "outputs": [],
   "source": [
    "# Convert the picks into seperate columns\n",
    "df_players_goals = pd.DataFrame(df_players_picks[\"picks\"].str.split(\", \").tolist(), index=df_players_picks.index)"
   ]
  },
  {
   "cell_type": "code",
   "execution_count": 8,
   "metadata": {},
   "outputs": [],
   "source": [
    "# Convert to long\n",
    "df_players_goals = df_players_goals.stack().to_frame(\"Team\")\n",
    "df_players_goals.index = df_players_goals.index.droplevel(1)"
   ]
  },
  {
   "cell_type": "code",
   "execution_count": 9,
   "metadata": {},
   "outputs": [],
   "source": [
    "# Join the goals and aggregate to each player\n",
    "df_players_goals = pd.merge(df_players_goals.reset_index(), df_goals, on=\"Team\", how=\"left\").fillna(0)\n",
    "df_players_goals = df_players_goals.groupby(\"name\")[[\"Goals\"]].sum().astype(int)"
   ]
  },
  {
   "cell_type": "code",
   "execution_count": 10,
   "metadata": {},
   "outputs": [],
   "source": [
    "# Join the total goals the the original dataframe\n",
    "df_players_picks_with_goals = df_players_picks.join(df_players_goals)"
   ]
  },
  {
   "cell_type": "code",
   "execution_count": 11,
   "metadata": {},
   "outputs": [],
   "source": [
    "df_players_picks_with_goals = df_players_picks_with_goals.sort_values(\"Goals\", ascending=False)"
   ]
  },
  {
   "cell_type": "code",
   "execution_count": 12,
   "metadata": {},
   "outputs": [
    {
     "data": {
      "text/html": [
       "<div>\n",
       "<style scoped>\n",
       "    .dataframe tbody tr th:only-of-type {\n",
       "        vertical-align: middle;\n",
       "    }\n",
       "\n",
       "    .dataframe tbody tr th {\n",
       "        vertical-align: top;\n",
       "    }\n",
       "\n",
       "    .dataframe thead th {\n",
       "        text-align: right;\n",
       "    }\n",
       "</style>\n",
       "<table border=\"1\" class=\"dataframe\">\n",
       "  <thead>\n",
       "    <tr style=\"text-align: right;\">\n",
       "      <th></th>\n",
       "      <th>picks</th>\n",
       "      <th>Goals</th>\n",
       "    </tr>\n",
       "    <tr>\n",
       "      <th>name</th>\n",
       "      <th></th>\n",
       "      <th></th>\n",
       "    </tr>\n",
       "  </thead>\n",
       "  <tbody>\n",
       "    <tr>\n",
       "      <th>Lee Mayne</th>\n",
       "      <td>Ecuador, Germany, Netherlands</td>\n",
       "      <td>2</td>\n",
       "    </tr>\n",
       "    <tr>\n",
       "      <th>Jack Maddison</th>\n",
       "      <td>Ecuador, Mexico, Serbia</td>\n",
       "      <td>2</td>\n",
       "    </tr>\n",
       "    <tr>\n",
       "      <th>Adam Carrick</th>\n",
       "      <td>Belgium, Costa Rica, Ecuador</td>\n",
       "      <td>2</td>\n",
       "    </tr>\n",
       "    <tr>\n",
       "      <th>Dan Wilson</th>\n",
       "      <td>Croatia, Ecuador, Germany</td>\n",
       "      <td>2</td>\n",
       "    </tr>\n",
       "    <tr>\n",
       "      <th>Adam Ivison</th>\n",
       "      <td>England, Iran, Uruguay</td>\n",
       "      <td>0</td>\n",
       "    </tr>\n",
       "    <tr>\n",
       "      <th>Liam Murtha</th>\n",
       "      <td>Cameroon, Mexico, Uruguay</td>\n",
       "      <td>0</td>\n",
       "    </tr>\n",
       "    <tr>\n",
       "      <th>Claire Hodkinson</th>\n",
       "      <td>Belgium, England, Ghana</td>\n",
       "      <td>0</td>\n",
       "    </tr>\n",
       "    <tr>\n",
       "      <th>Georgia Wilson</th>\n",
       "      <td>Australia, Belgium, Mexico</td>\n",
       "      <td>0</td>\n",
       "    </tr>\n",
       "    <tr>\n",
       "      <th>Danielle Young</th>\n",
       "      <td>Canada, Senegal, Switzerland</td>\n",
       "      <td>0</td>\n",
       "    </tr>\n",
       "    <tr>\n",
       "      <th>Martin Young</th>\n",
       "      <td>Belgium, Canada, Senegal</td>\n",
       "      <td>0</td>\n",
       "    </tr>\n",
       "    <tr>\n",
       "      <th>Lee Carrick</th>\n",
       "      <td>France, Netherlands, Portugal</td>\n",
       "      <td>0</td>\n",
       "    </tr>\n",
       "    <tr>\n",
       "      <th>Chris Royal</th>\n",
       "      <td>Croatia, Ghana, Iran</td>\n",
       "      <td>0</td>\n",
       "    </tr>\n",
       "    <tr>\n",
       "      <th>Sean Jackson</th>\n",
       "      <td>Costa Rica, Portugal, Wales</td>\n",
       "      <td>0</td>\n",
       "    </tr>\n",
       "    <tr>\n",
       "      <th>Connor Sweeney</th>\n",
       "      <td>Morocco, Qatar, Senegal</td>\n",
       "      <td>0</td>\n",
       "    </tr>\n",
       "    <tr>\n",
       "      <th>Will Forrester</th>\n",
       "      <td>Denmark, Serbia, Switzerland</td>\n",
       "      <td>0</td>\n",
       "    </tr>\n",
       "    <tr>\n",
       "      <th>Ricky Wells</th>\n",
       "      <td>Belgium, Spain, USA</td>\n",
       "      <td>0</td>\n",
       "    </tr>\n",
       "    <tr>\n",
       "      <th>Paul Smith</th>\n",
       "      <td>Cameroon, England, Portugal</td>\n",
       "      <td>0</td>\n",
       "    </tr>\n",
       "    <tr>\n",
       "      <th>Liam Smith</th>\n",
       "      <td>Netherlands, Serbia, Tunisia</td>\n",
       "      <td>0</td>\n",
       "    </tr>\n",
       "    <tr>\n",
       "      <th>Cal Craig</th>\n",
       "      <td>Morocco, Netherlands, Tunisia</td>\n",
       "      <td>0</td>\n",
       "    </tr>\n",
       "    <tr>\n",
       "      <th>Adam Lowes</th>\n",
       "      <td>Argentina, Cameroon, Serbia</td>\n",
       "      <td>0</td>\n",
       "    </tr>\n",
       "    <tr>\n",
       "      <th>Liam Robson</th>\n",
       "      <td>Ghana, Morocco, Senegal</td>\n",
       "      <td>0</td>\n",
       "    </tr>\n",
       "    <tr>\n",
       "      <th>Grant Willis</th>\n",
       "      <td>Denmark, Qatar, Saudi Arabia</td>\n",
       "      <td>0</td>\n",
       "    </tr>\n",
       "    <tr>\n",
       "      <th>Anthony Chapman</th>\n",
       "      <td>England, Mexico, Spain</td>\n",
       "      <td>0</td>\n",
       "    </tr>\n",
       "    <tr>\n",
       "      <th>Ryan Lowes</th>\n",
       "      <td>Denmark, Ghana, Mexico</td>\n",
       "      <td>0</td>\n",
       "    </tr>\n",
       "    <tr>\n",
       "      <th>Helen Wilson</th>\n",
       "      <td>Costa Rica, Germany, Uruguay</td>\n",
       "      <td>0</td>\n",
       "    </tr>\n",
       "  </tbody>\n",
       "</table>\n",
       "</div>"
      ],
      "text/plain": [
       "                                          picks  Goals\n",
       "name                                                  \n",
       "Lee Mayne         Ecuador, Germany, Netherlands      2\n",
       "Jack Maddison           Ecuador, Mexico, Serbia      2\n",
       "Adam Carrick       Belgium, Costa Rica, Ecuador      2\n",
       "Dan Wilson            Croatia, Ecuador, Germany      2\n",
       "Adam Ivison              England, Iran, Uruguay      0\n",
       "Liam Murtha           Cameroon, Mexico, Uruguay      0\n",
       "Claire Hodkinson        Belgium, England, Ghana      0\n",
       "Georgia Wilson       Australia, Belgium, Mexico      0\n",
       "Danielle Young     Canada, Senegal, Switzerland      0\n",
       "Martin Young           Belgium, Canada, Senegal      0\n",
       "Lee Carrick       France, Netherlands, Portugal      0\n",
       "Chris Royal                Croatia, Ghana, Iran      0\n",
       "Sean Jackson        Costa Rica, Portugal, Wales      0\n",
       "Connor Sweeney          Morocco, Qatar, Senegal      0\n",
       "Will Forrester     Denmark, Serbia, Switzerland      0\n",
       "Ricky Wells                 Belgium, Spain, USA      0\n",
       "Paul Smith          Cameroon, England, Portugal      0\n",
       "Liam Smith         Netherlands, Serbia, Tunisia      0\n",
       "Cal Craig         Morocco, Netherlands, Tunisia      0\n",
       "Adam Lowes          Argentina, Cameroon, Serbia      0\n",
       "Liam Robson             Ghana, Morocco, Senegal      0\n",
       "Grant Willis       Denmark, Qatar, Saudi Arabia      0\n",
       "Anthony Chapman          England, Mexico, Spain      0\n",
       "Ryan Lowes               Denmark, Ghana, Mexico      0\n",
       "Helen Wilson       Costa Rica, Germany, Uruguay      0"
      ]
     },
     "execution_count": 71,
     "metadata": {},
     "output_type": "execute_result"
    }
   ],
   "source": [
    "df_players_picks_with_goals"
   ]
  }
 ],
 "metadata": {
  "colab": {
   "authorship_tag": "ABX9TyN4ZO46E/6ZAp0VywIqnsTU",
   "include_colab_link": true,
   "provenance": []
  },
  "kernelspec": {
   "display_name": "Python 3.10.4 64-bit",
   "language": "python",
   "name": "python3"
  },
  "language_info": {
   "codemirror_mode": {
    "name": "ipython",
    "version": 3
   },
   "file_extension": ".py",
   "mimetype": "text/x-python",
   "name": "python",
   "nbconvert_exporter": "python",
   "pygments_lexer": "ipython3",
   "version": "3.10.4"
  },
  "vscode": {
   "interpreter": {
    "hash": "3ad933181bd8a04b432d3370b9dc3b0662ad032c4dfaa4e4f1596c548f763858"
   }
  }
 },
 "nbformat": 4,
 "nbformat_minor": 0
}
