{
  "nbformat": 4,
  "nbformat_minor": 0,
  "metadata": {
    "colab": {
      "provenance": [],
      "authorship_tag": "ABX9TyN4ZO46E/6ZAp0VywIqnsTU",
      "include_colab_link": true
    },
    "kernelspec": {
      "name": "python3",
      "display_name": "Python 3"
    },
    "language_info": {
      "name": "python"
    }
  },
  "cells": [
    {
      "cell_type": "markdown",
      "metadata": {
        "id": "view-in-github",
        "colab_type": "text"
      },
      "source": [
        "<a href=\"https://colab.research.google.com/github/admivsn/world-cup-blackjack/blob/main/get_goals_for_picks.ipynb\" target=\"_parent\"><img src=\"https://colab.research.google.com/assets/colab-badge.svg\" alt=\"Open In Colab\"/></a>"
      ]
    },
    {
      "cell_type": "code",
      "execution_count": 1,
      "metadata": {
        "id": "KxWLlEeCTO6k"
      },
      "outputs": [],
      "source": [
        "import pandas as pd"
      ]
    },
    {
      "cell_type": "code",
      "source": [
        "# Pull the known results\n",
        "df_fixtures = pd.read_csv(\"https://fixturedownload.com/download/fifa-world-cup-2022-UTC.csv\")\n",
        "df_results = df_fixtures[df_fixtures[\"Result\"].notna()]"
      ],
      "metadata": {
        "id": "4n9P99f6TlPY"
      },
      "execution_count": 2,
      "outputs": []
    },
    {
      "cell_type": "code",
      "source": [
        "# Split Result into home goals and away goals\n",
        "df_results[\"Home Goals\"] = df_results[\"Result\"].apply(lambda x: int(x.split(\"-\")[0]))\n",
        "df_results[\"Away Goals\"] = df_results[\"Result\"].apply(lambda x: int(x.split(\"-\")[1]))"
      ],
      "metadata": {
        "id": "FUb8E5vNTtZT",
        "colab": {
          "base_uri": "https://localhost:8080/"
        },
        "outputId": "5b090e6a-8539-488c-d74e-d975b76b3f85"
      },
      "execution_count": 3,
      "outputs": [
        {
          "output_type": "stream",
          "name": "stderr",
          "text": [
            "/usr/local/lib/python3.7/dist-packages/ipykernel_launcher.py:2: SettingWithCopyWarning: \n",
            "A value is trying to be set on a copy of a slice from a DataFrame.\n",
            "Try using .loc[row_indexer,col_indexer] = value instead\n",
            "\n",
            "See the caveats in the documentation: https://pandas.pydata.org/pandas-docs/stable/user_guide/indexing.html#returning-a-view-versus-a-copy\n",
            "  \n",
            "/usr/local/lib/python3.7/dist-packages/ipykernel_launcher.py:3: SettingWithCopyWarning: \n",
            "A value is trying to be set on a copy of a slice from a DataFrame.\n",
            "Try using .loc[row_indexer,col_indexer] = value instead\n",
            "\n",
            "See the caveats in the documentation: https://pandas.pydata.org/pandas-docs/stable/user_guide/indexing.html#returning-a-view-versus-a-copy\n",
            "  This is separate from the ipykernel package so we can avoid doing imports until\n"
          ]
        }
      ]
    },
    {
      "cell_type": "code",
      "source": [
        "# Get the total goals for each team\n",
        "df_goals = pd.concat(\n",
        "    [\n",
        "        df_results[[f\"{x} Team\", f\"{x} Goals\"]].rename(columns = lambda x: x.split(\" \")[1]) \n",
        "        for x in [\"Home\", \"Away\"]\n",
        "    ]\n",
        ")\n",
        "df_goals = df_goals.groupby(\"Team\")[[\"Goals\"]].sum().reset_index()"
      ],
      "metadata": {
        "id": "1sQMxFbyUu_d"
      },
      "execution_count": 4,
      "outputs": []
    },
    {
      "cell_type": "code",
      "source": [
        "# Read the players picks\n",
        "df_players_picks = pd.read_csv(\"df_players_picks.csv\")"
      ],
      "metadata": {
        "id": "Nd8IgUi2Vb7m"
      },
      "execution_count": 5,
      "outputs": []
    },
    {
      "cell_type": "code",
      "source": [
        "# Clean the players picks\n",
        "df_players_picks = df_players_picks.set_index(\"name\")\n",
        "df_players_picks[\"picks\"] = df_players_picks[\"picks\"].apply(lambda x: x.replace(\"[\", \"\").replace(\"]\", \"\").replace(\"'\", \"\"))"
      ],
      "metadata": {
        "id": "weSjfCuotLot"
      },
      "execution_count": 6,
      "outputs": []
    },
    {
      "cell_type": "code",
      "source": [
        "# Convert the picks into seperate columns\n",
        "df_players_goals = pd.DataFrame(df_players_picks[\"picks\"].str.split(\", \").tolist(), index=df_players_picks.index)"
      ],
      "metadata": {
        "id": "C2fPzrm31SLX"
      },
      "execution_count": 7,
      "outputs": []
    },
    {
      "cell_type": "code",
      "source": [
        "# Convert to long\n",
        "df_players_goals = df_players_goals.stack().to_frame(\"Team\")\n",
        "df_players_goals.index = df_players_goals.index.droplevel(1)"
      ],
      "metadata": {
        "id": "-Vv8MktbR8W3"
      },
      "execution_count": 8,
      "outputs": []
    },
    {
      "cell_type": "code",
      "source": [
        "# Join the goals and aggregate to each player\n",
        "df_players_goals = pd.merge(df_players_goals.reset_index(), df_goals, on=\"Team\", how=\"left\").fillna(0)\n",
        "df_players_goals = df_players_goals.groupby(\"name\")[[\"Goals\"]].sum().astype(int)"
      ],
      "metadata": {
        "id": "xKrZw4e85x7B"
      },
      "execution_count": 9,
      "outputs": []
    },
    {
      "cell_type": "code",
      "source": [
        "# Join the total goals the the original dataframe\n",
        "df_players_picks_with_goals = df_players_picks.join(df_players_goals)"
      ],
      "metadata": {
        "id": "0Hsqkpk8sJ3T"
      },
      "execution_count": 10,
      "outputs": []
    },
    {
      "cell_type": "code",
      "source": [
        "# Sort by goals\n",
        "df_players_picks_with_goals = df_players_picks_with_goals.sort_values(\"Goals\", ascending=False).reset_index()"
      ],
      "metadata": {
        "id": "deBlS5eVuDwj"
      },
      "execution_count": 11,
      "outputs": []
    },
    {
      "cell_type": "code",
      "source": [
        "df_players_picks_with_goals"
      ],
      "metadata": {
        "colab": {
          "base_uri": "https://localhost:8080/",
          "height": 833
        },
        "id": "RMhUfyWHuOTf",
        "outputId": "29671164-fd27-4803-b3cc-402c90ec57f4"
      },
      "execution_count": 12,
      "outputs": [
        {
          "output_type": "execute_result",
          "data": {
            "text/plain": [
              "                name                          picks  Goals\n",
              "0          Lee Mayne  Ecuador, Germany, Netherlands      2\n",
              "1      Jack Maddison        Ecuador, Mexico, Serbia      2\n",
              "2       Adam Carrick   Belgium, Costa Rica, Ecuador      2\n",
              "3         Dan Wilson      Croatia, Ecuador, Germany      2\n",
              "4        Adam Ivison         England, Iran, Uruguay      0\n",
              "5        Liam Murtha      Cameroon, Mexico, Uruguay      0\n",
              "6   Claire Hodkinson        Belgium, England, Ghana      0\n",
              "7     Georgia Wilson     Australia, Belgium, Mexico      0\n",
              "8     Danielle Young   Canada, Senegal, Switzerland      0\n",
              "9       Martin Young       Belgium, Canada, Senegal      0\n",
              "10       Lee Carrick  France, Netherlands, Portugal      0\n",
              "11       Chris Royal           Croatia, Ghana, Iran      0\n",
              "12      Sean Jackson    Costa Rica, Portugal, Wales      0\n",
              "13    Connor Sweeney        Morocco, Qatar, Senegal      0\n",
              "14    Will Forrester   Denmark, Serbia, Switzerland      0\n",
              "15       Ricky Wells            Belgium, Spain, USA      0\n",
              "16        Paul Smith    Cameroon, England, Portugal      0\n",
              "17        Liam Smith   Netherlands, Serbia, Tunisia      0\n",
              "18         Cal Craig  Morocco, Netherlands, Tunisia      0\n",
              "19        Adam Lowes    Argentina, Cameroon, Serbia      0\n",
              "20       Liam Robson        Ghana, Morocco, Senegal      0\n",
              "21      Grant Willis   Denmark, Qatar, Saudi Arabia      0\n",
              "22   Anthony Chapman         England, Mexico, Spain      0\n",
              "23        Ryan Lowes         Denmark, Ghana, Mexico      0\n",
              "24      Helen Wilson   Costa Rica, Germany, Uruguay      0"
            ],
            "text/html": [
              "\n",
              "  <div id=\"df-66f6ba9f-a8e6-484f-9d21-59fb83de6d29\">\n",
              "    <div class=\"colab-df-container\">\n",
              "      <div>\n",
              "<style scoped>\n",
              "    .dataframe tbody tr th:only-of-type {\n",
              "        vertical-align: middle;\n",
              "    }\n",
              "\n",
              "    .dataframe tbody tr th {\n",
              "        vertical-align: top;\n",
              "    }\n",
              "\n",
              "    .dataframe thead th {\n",
              "        text-align: right;\n",
              "    }\n",
              "</style>\n",
              "<table border=\"1\" class=\"dataframe\">\n",
              "  <thead>\n",
              "    <tr style=\"text-align: right;\">\n",
              "      <th></th>\n",
              "      <th>name</th>\n",
              "      <th>picks</th>\n",
              "      <th>Goals</th>\n",
              "    </tr>\n",
              "  </thead>\n",
              "  <tbody>\n",
              "    <tr>\n",
              "      <th>0</th>\n",
              "      <td>Lee Mayne</td>\n",
              "      <td>Ecuador, Germany, Netherlands</td>\n",
              "      <td>2</td>\n",
              "    </tr>\n",
              "    <tr>\n",
              "      <th>1</th>\n",
              "      <td>Jack Maddison</td>\n",
              "      <td>Ecuador, Mexico, Serbia</td>\n",
              "      <td>2</td>\n",
              "    </tr>\n",
              "    <tr>\n",
              "      <th>2</th>\n",
              "      <td>Adam Carrick</td>\n",
              "      <td>Belgium, Costa Rica, Ecuador</td>\n",
              "      <td>2</td>\n",
              "    </tr>\n",
              "    <tr>\n",
              "      <th>3</th>\n",
              "      <td>Dan Wilson</td>\n",
              "      <td>Croatia, Ecuador, Germany</td>\n",
              "      <td>2</td>\n",
              "    </tr>\n",
              "    <tr>\n",
              "      <th>4</th>\n",
              "      <td>Adam Ivison</td>\n",
              "      <td>England, Iran, Uruguay</td>\n",
              "      <td>0</td>\n",
              "    </tr>\n",
              "    <tr>\n",
              "      <th>5</th>\n",
              "      <td>Liam Murtha</td>\n",
              "      <td>Cameroon, Mexico, Uruguay</td>\n",
              "      <td>0</td>\n",
              "    </tr>\n",
              "    <tr>\n",
              "      <th>6</th>\n",
              "      <td>Claire Hodkinson</td>\n",
              "      <td>Belgium, England, Ghana</td>\n",
              "      <td>0</td>\n",
              "    </tr>\n",
              "    <tr>\n",
              "      <th>7</th>\n",
              "      <td>Georgia Wilson</td>\n",
              "      <td>Australia, Belgium, Mexico</td>\n",
              "      <td>0</td>\n",
              "    </tr>\n",
              "    <tr>\n",
              "      <th>8</th>\n",
              "      <td>Danielle Young</td>\n",
              "      <td>Canada, Senegal, Switzerland</td>\n",
              "      <td>0</td>\n",
              "    </tr>\n",
              "    <tr>\n",
              "      <th>9</th>\n",
              "      <td>Martin Young</td>\n",
              "      <td>Belgium, Canada, Senegal</td>\n",
              "      <td>0</td>\n",
              "    </tr>\n",
              "    <tr>\n",
              "      <th>10</th>\n",
              "      <td>Lee Carrick</td>\n",
              "      <td>France, Netherlands, Portugal</td>\n",
              "      <td>0</td>\n",
              "    </tr>\n",
              "    <tr>\n",
              "      <th>11</th>\n",
              "      <td>Chris Royal</td>\n",
              "      <td>Croatia, Ghana, Iran</td>\n",
              "      <td>0</td>\n",
              "    </tr>\n",
              "    <tr>\n",
              "      <th>12</th>\n",
              "      <td>Sean Jackson</td>\n",
              "      <td>Costa Rica, Portugal, Wales</td>\n",
              "      <td>0</td>\n",
              "    </tr>\n",
              "    <tr>\n",
              "      <th>13</th>\n",
              "      <td>Connor Sweeney</td>\n",
              "      <td>Morocco, Qatar, Senegal</td>\n",
              "      <td>0</td>\n",
              "    </tr>\n",
              "    <tr>\n",
              "      <th>14</th>\n",
              "      <td>Will Forrester</td>\n",
              "      <td>Denmark, Serbia, Switzerland</td>\n",
              "      <td>0</td>\n",
              "    </tr>\n",
              "    <tr>\n",
              "      <th>15</th>\n",
              "      <td>Ricky Wells</td>\n",
              "      <td>Belgium, Spain, USA</td>\n",
              "      <td>0</td>\n",
              "    </tr>\n",
              "    <tr>\n",
              "      <th>16</th>\n",
              "      <td>Paul Smith</td>\n",
              "      <td>Cameroon, England, Portugal</td>\n",
              "      <td>0</td>\n",
              "    </tr>\n",
              "    <tr>\n",
              "      <th>17</th>\n",
              "      <td>Liam Smith</td>\n",
              "      <td>Netherlands, Serbia, Tunisia</td>\n",
              "      <td>0</td>\n",
              "    </tr>\n",
              "    <tr>\n",
              "      <th>18</th>\n",
              "      <td>Cal Craig</td>\n",
              "      <td>Morocco, Netherlands, Tunisia</td>\n",
              "      <td>0</td>\n",
              "    </tr>\n",
              "    <tr>\n",
              "      <th>19</th>\n",
              "      <td>Adam Lowes</td>\n",
              "      <td>Argentina, Cameroon, Serbia</td>\n",
              "      <td>0</td>\n",
              "    </tr>\n",
              "    <tr>\n",
              "      <th>20</th>\n",
              "      <td>Liam Robson</td>\n",
              "      <td>Ghana, Morocco, Senegal</td>\n",
              "      <td>0</td>\n",
              "    </tr>\n",
              "    <tr>\n",
              "      <th>21</th>\n",
              "      <td>Grant Willis</td>\n",
              "      <td>Denmark, Qatar, Saudi Arabia</td>\n",
              "      <td>0</td>\n",
              "    </tr>\n",
              "    <tr>\n",
              "      <th>22</th>\n",
              "      <td>Anthony Chapman</td>\n",
              "      <td>England, Mexico, Spain</td>\n",
              "      <td>0</td>\n",
              "    </tr>\n",
              "    <tr>\n",
              "      <th>23</th>\n",
              "      <td>Ryan Lowes</td>\n",
              "      <td>Denmark, Ghana, Mexico</td>\n",
              "      <td>0</td>\n",
              "    </tr>\n",
              "    <tr>\n",
              "      <th>24</th>\n",
              "      <td>Helen Wilson</td>\n",
              "      <td>Costa Rica, Germany, Uruguay</td>\n",
              "      <td>0</td>\n",
              "    </tr>\n",
              "  </tbody>\n",
              "</table>\n",
              "</div>\n",
              "      <button class=\"colab-df-convert\" onclick=\"convertToInteractive('df-66f6ba9f-a8e6-484f-9d21-59fb83de6d29')\"\n",
              "              title=\"Convert this dataframe to an interactive table.\"\n",
              "              style=\"display:none;\">\n",
              "        \n",
              "  <svg xmlns=\"http://www.w3.org/2000/svg\" height=\"24px\"viewBox=\"0 0 24 24\"\n",
              "       width=\"24px\">\n",
              "    <path d=\"M0 0h24v24H0V0z\" fill=\"none\"/>\n",
              "    <path d=\"M18.56 5.44l.94 2.06.94-2.06 2.06-.94-2.06-.94-.94-2.06-.94 2.06-2.06.94zm-11 1L8.5 8.5l.94-2.06 2.06-.94-2.06-.94L8.5 2.5l-.94 2.06-2.06.94zm10 10l.94 2.06.94-2.06 2.06-.94-2.06-.94-.94-2.06-.94 2.06-2.06.94z\"/><path d=\"M17.41 7.96l-1.37-1.37c-.4-.4-.92-.59-1.43-.59-.52 0-1.04.2-1.43.59L10.3 9.45l-7.72 7.72c-.78.78-.78 2.05 0 2.83L4 21.41c.39.39.9.59 1.41.59.51 0 1.02-.2 1.41-.59l7.78-7.78 2.81-2.81c.8-.78.8-2.07 0-2.86zM5.41 20L4 18.59l7.72-7.72 1.47 1.35L5.41 20z\"/>\n",
              "  </svg>\n",
              "      </button>\n",
              "      \n",
              "  <style>\n",
              "    .colab-df-container {\n",
              "      display:flex;\n",
              "      flex-wrap:wrap;\n",
              "      gap: 12px;\n",
              "    }\n",
              "\n",
              "    .colab-df-convert {\n",
              "      background-color: #E8F0FE;\n",
              "      border: none;\n",
              "      border-radius: 50%;\n",
              "      cursor: pointer;\n",
              "      display: none;\n",
              "      fill: #1967D2;\n",
              "      height: 32px;\n",
              "      padding: 0 0 0 0;\n",
              "      width: 32px;\n",
              "    }\n",
              "\n",
              "    .colab-df-convert:hover {\n",
              "      background-color: #E2EBFA;\n",
              "      box-shadow: 0px 1px 2px rgba(60, 64, 67, 0.3), 0px 1px 3px 1px rgba(60, 64, 67, 0.15);\n",
              "      fill: #174EA6;\n",
              "    }\n",
              "\n",
              "    [theme=dark] .colab-df-convert {\n",
              "      background-color: #3B4455;\n",
              "      fill: #D2E3FC;\n",
              "    }\n",
              "\n",
              "    [theme=dark] .colab-df-convert:hover {\n",
              "      background-color: #434B5C;\n",
              "      box-shadow: 0px 1px 3px 1px rgba(0, 0, 0, 0.15);\n",
              "      filter: drop-shadow(0px 1px 2px rgba(0, 0, 0, 0.3));\n",
              "      fill: #FFFFFF;\n",
              "    }\n",
              "  </style>\n",
              "\n",
              "      <script>\n",
              "        const buttonEl =\n",
              "          document.querySelector('#df-66f6ba9f-a8e6-484f-9d21-59fb83de6d29 button.colab-df-convert');\n",
              "        buttonEl.style.display =\n",
              "          google.colab.kernel.accessAllowed ? 'block' : 'none';\n",
              "\n",
              "        async function convertToInteractive(key) {\n",
              "          const element = document.querySelector('#df-66f6ba9f-a8e6-484f-9d21-59fb83de6d29');\n",
              "          const dataTable =\n",
              "            await google.colab.kernel.invokeFunction('convertToInteractive',\n",
              "                                                     [key], {});\n",
              "          if (!dataTable) return;\n",
              "\n",
              "          const docLinkHtml = 'Like what you see? Visit the ' +\n",
              "            '<a target=\"_blank\" href=https://colab.research.google.com/notebooks/data_table.ipynb>data table notebook</a>'\n",
              "            + ' to learn more about interactive tables.';\n",
              "          element.innerHTML = '';\n",
              "          dataTable['output_type'] = 'display_data';\n",
              "          await google.colab.output.renderOutput(dataTable, element);\n",
              "          const docLink = document.createElement('div');\n",
              "          docLink.innerHTML = docLinkHtml;\n",
              "          element.appendChild(docLink);\n",
              "        }\n",
              "      </script>\n",
              "    </div>\n",
              "  </div>\n",
              "  "
            ]
          },
          "metadata": {},
          "execution_count": 12
        }
      ]
    }
  ]
}