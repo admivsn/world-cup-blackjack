{
 "cells": [
  {
   "cell_type": "raw",
   "metadata": {},
   "source": [
    "---\n",
    "title: \"World Cup Blackjack\"\n",
    "format:\n",
    "  html\n",
    "execute: \n",
    "  enabled: true\n",
    "  echo: false\n",
    "---"
   ]
  },
  {
   "cell_type": "code",
   "execution_count": null,
   "metadata": {
    "id": "KxWLlEeCTO6k"
   },
   "outputs": [],
   "source": [
    "import pandas as pd\n",
    "from datetime import datetime\n",
    "import warnings\n",
    "warnings.filterwarnings('ignore')"
   ]
  },
  {
   "cell_type": "code",
   "execution_count": null,
   "metadata": {},
   "outputs": [],
   "source": [
    "# Pull the known results\n",
    "df_fixtures = pd.read_csv(\"https://fixturedownload.com/download/fifa-world-cup-2022-UTC.csv\")\n",
    "df_results = df_fixtures[df_fixtures[\"Result\"].notna()]"
   ]
  },
  {
   "cell_type": "code",
   "execution_count": null,
   "metadata": {},
   "outputs": [],
   "source": [
    "# Split Result into home goals and away goals\n",
    "df_results[\"Home Goals\"] = df_results[\"Result\"].apply(lambda x: int(x.split(\"-\")[0]))\n",
    "df_results[\"Away Goals\"] = df_results[\"Result\"].apply(lambda x: int(x.split(\"-\")[1]))"
   ]
  },
  {
   "cell_type": "code",
   "execution_count": null,
   "metadata": {},
   "outputs": [],
   "source": [
    "# Get the total goals for each team\n",
    "df_goals = pd.concat(\n",
    "    [\n",
    "        df_results[[f\"{x} Team\", f\"{x} Goals\"]].rename(columns = lambda x: x.split(\" \")[1]) \n",
    "        for x in [\"Home\", \"Away\"]\n",
    "    ]\n",
    ")\n",
    "df_goals = df_goals.groupby(\"Team\")[[\"Goals\"]].sum().reset_index()"
   ]
  },
  {
   "cell_type": "code",
   "execution_count": null,
   "metadata": {},
   "outputs": [],
   "source": [
    "# Read the players picks\n",
    "df_players_picks = pd.read_csv(\"df_players_picks.csv\")"
   ]
  },
  {
   "cell_type": "code",
   "execution_count": null,
   "metadata": {},
   "outputs": [],
   "source": [
    "# Clean the players picks\n",
    "df_players_picks = df_players_picks.set_index(\"name\")\n",
    "df_players_picks[\"picks\"] = df_players_picks[\"picks\"].apply(lambda x: x.replace(\"[\", \"\").replace(\"]\", \"\").replace(\"'\", \"\"))"
   ]
  },
  {
   "cell_type": "code",
   "execution_count": null,
   "metadata": {},
   "outputs": [],
   "source": [
    "# Convert the picks into seperate columns\n",
    "df_players_goals = pd.DataFrame(df_players_picks[\"picks\"].str.split(\", \").tolist(), index=df_players_picks.index)"
   ]
  },
  {
   "cell_type": "code",
   "execution_count": null,
   "metadata": {},
   "outputs": [],
   "source": [
    "# Convert to long\n",
    "df_players_goals = df_players_goals.stack().to_frame(\"Team\")\n",
    "df_players_goals.index = df_players_goals.index.droplevel(1)"
   ]
  },
  {
   "cell_type": "code",
   "execution_count": null,
   "metadata": {},
   "outputs": [],
   "source": [
    "# Join the goals and aggregate to each player\n",
    "df_players_goals = pd.merge(df_players_goals.reset_index(), df_goals, on=\"Team\", how=\"left\").fillna(0)\n",
    "df_players_goals = df_players_goals.groupby(\"name\")[[\"Goals\"]].sum().astype(int)"
   ]
  },
  {
   "cell_type": "code",
   "execution_count": null,
   "metadata": {},
   "outputs": [],
   "source": [
    "# Join the total goals the the original dataframe\n",
    "df_players_picks_with_goals = df_players_picks.join(df_players_goals)"
   ]
  },
  {
   "cell_type": "code",
   "execution_count": null,
   "metadata": {},
   "outputs": [],
   "source": [
    "df_players_picks_with_goals = df_players_picks_with_goals.sort_values(\"Goals\", ascending=False)"
   ]
  },
  {
   "cell_type": "code",
   "execution_count": null,
   "metadata": {},
   "outputs": [],
   "source": [
    "df_players_picks_with_goals"
   ]
  },
  {
   "cell_type": "code",
   "execution_count": null,
   "metadata": {},
   "outputs": [],
   "source": [
    "#| echo: true\n",
    "print(datetime.now())"
   ]
  }
 ],
 "metadata": {
  "colab": {
   "authorship_tag": "ABX9TyN4ZO46E/6ZAp0VywIqnsTU",
   "include_colab_link": true,
   "provenance": []
  },
  "kernelspec": {
   "display_name": "Python 3.10.4 64-bit",
   "language": "python",
   "name": "python3"
  },
  "language_info": {
   "codemirror_mode": {
    "name": "ipython",
    "version": 3
   },
   "file_extension": ".py",
   "mimetype": "text/x-python",
   "name": "python",
   "nbconvert_exporter": "python",
   "pygments_lexer": "ipython3",
   "version": "3.10.4"
  },
  "vscode": {
   "interpreter": {
    "hash": "3ad933181bd8a04b432d3370b9dc3b0662ad032c4dfaa4e4f1596c548f763858"
   }
  }
 },
 "nbformat": 4,
 "nbformat_minor": 0
}
