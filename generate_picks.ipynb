{
  "nbformat": 4,
  "nbformat_minor": 0,
  "metadata": {
    "colab": {
      "provenance": [],
      "authorship_tag": "ABX9TyOU1e+usl0ZTH6uqCwqSIIx",
      "include_colab_link": true
    },
    "kernelspec": {
      "name": "python3",
      "display_name": "Python 3"
    },
    "language_info": {
      "name": "python"
    }
  },
  "cells": [
    {
      "cell_type": "markdown",
      "metadata": {
        "id": "view-in-github",
        "colab_type": "text"
      },
      "source": [
        "<a href=\"https://colab.research.google.com/github/admivsn/world-cup-blackjack/blob/main/generate_picks.ipynb\" target=\"_parent\"><img src=\"https://colab.research.google.com/assets/colab-badge.svg\" alt=\"Open In Colab\"/></a>"
      ]
    },
    {
      "cell_type": "code",
      "execution_count": 1,
      "metadata": {
        "id": "KxWLlEeCTO6k"
      },
      "outputs": [],
      "source": [
        "import pandas as pd\n",
        "from itertools import combinations\n",
        "from random import sample"
      ]
    },
    {
      "cell_type": "code",
      "source": [
        "# Unique teams from the fixtures (can't find a list)\n",
        "df_fixtures = pd.read_csv(\"https://fixturedownload.com/download/fifa-world-cup-2022-UTC.csv\")\n",
        "df_fixtures = df_fixtures[df_fixtures[\"Round Number\"] == \"1\"]\n",
        "teams = set(df_fixtures[\"Home Team\"]) | set(df_fixtures[\"Away Team\"])"
      ],
      "metadata": {
        "id": "4n9P99f6TlPY"
      },
      "execution_count": 2,
      "outputs": []
    },
    {
      "cell_type": "code",
      "source": [
        "# List of players\n",
        "players = [\n",
        "    \"Adam Ivison\", \n",
        "    \"Dan Wilson\",\n",
        "    \"Ryan Lowes\",\n",
        "    \"Anthony Chapman\",\n",
        "    \"Grant Willis\",\n",
        "    \"Jack Maddison\",\n",
        "    \"Liam Robson\",\n",
        "    \"Adam Lowes\",\n",
        "    \"Cal Craig\",\n",
        "    \"Liam Smith\",\n",
        "    \"Paul Smith\",\n",
        "    \"Ricky Wells\",\n",
        "    \"Connor Sweeney\",\n",
        "    \"Will Forrester\",\n",
        "    \"Liam Murtha\",\n",
        "    \"Sean Jackson\",\n",
        "    \"Chris Royal\",\n",
        "    \"Lee Carrick\",\n",
        "    \"Martin Young\",\n",
        "    \"Danielle Young\",\n",
        "    \"Adam Carrick\",\n",
        "    \"Georgia Wilson\",\n",
        "    \"Claire Hodkinson\",\n",
        "    \"Lee Mayne\",\n",
        "    \"Helen Wilson\",\n",
        "  ]"
      ],
      "metadata": {
        "id": "FUb8E5vNTtZT"
      },
      "execution_count": 3,
      "outputs": []
    },
    {
      "cell_type": "code",
      "source": [
        "# Assign each player a random combination of 3 teams\n",
        "possible_picks = list(combinations(teams, 3))\n",
        "picks = sample(possible_picks, len(players))\n",
        "players_picks = zip(players, [sorted(p) for p in picks])"
      ],
      "metadata": {
        "id": "1sQMxFbyUu_d"
      },
      "execution_count": 4,
      "outputs": []
    },
    {
      "cell_type": "code",
      "source": [
        "# Convert to dataframe\n",
        "df_players_picks = pd.DataFrame(players_picks, columns=[\"name\", \"picks\"])"
      ],
      "metadata": {
        "id": "Nd8IgUi2Vb7m"
      },
      "execution_count": 5,
      "outputs": []
    },
    {
      "cell_type": "code",
      "source": [
        "df_players_picks"
      ],
      "metadata": {
        "colab": {
          "base_uri": "https://localhost:8080/",
          "height": 645
        },
        "id": "C2fPzrm31SLX",
        "outputId": "635b86e8-a7a2-4ed1-a15e-c2e5ce38fd3d"
      },
      "execution_count": 6,
      "outputs": [
        {
          "output_type": "execute_result",
          "data": {
            "text/plain": [
              "                name                            picks\n",
              "0        Adam Ivison         [England, Iran, Uruguay]\n",
              "1         Dan Wilson      [Croatia, Ecuador, Germany]\n",
              "2         Ryan Lowes         [Denmark, Ghana, Mexico]\n",
              "3    Anthony Chapman         [England, Mexico, Spain]\n",
              "4       Grant Willis   [Denmark, Qatar, Saudi Arabia]\n",
              "5      Jack Maddison        [Ecuador, Mexico, Serbia]\n",
              "6        Liam Robson        [Ghana, Morocco, Senegal]\n",
              "7         Adam Lowes    [Argentina, Cameroon, Serbia]\n",
              "8          Cal Craig  [Morocco, Netherlands, Tunisia]\n",
              "9         Liam Smith   [Netherlands, Serbia, Tunisia]\n",
              "10        Paul Smith    [Cameroon, England, Portugal]\n",
              "11       Ricky Wells            [Belgium, Spain, USA]\n",
              "12    Connor Sweeney        [Morocco, Qatar, Senegal]\n",
              "13    Will Forrester   [Denmark, Serbia, Switzerland]\n",
              "14       Liam Murtha      [Cameroon, Mexico, Uruguay]\n",
              "15      Sean Jackson    [Costa Rica, Portugal, Wales]\n",
              "16       Chris Royal           [Croatia, Ghana, Iran]\n",
              "17       Lee Carrick  [France, Netherlands, Portugal]\n",
              "18      Martin Young       [Belgium, Canada, Senegal]\n",
              "19    Danielle Young   [Canada, Senegal, Switzerland]\n",
              "20      Adam Carrick   [Belgium, Costa Rica, Ecuador]\n",
              "21    Georgia Wilson     [Australia, Belgium, Mexico]\n",
              "22  Claire Hodkinson        [Belgium, England, Ghana]\n",
              "23         Lee Mayne  [Ecuador, Germany, Netherlands]\n",
              "24      Helen Wilson   [Costa Rica, Germany, Uruguay]"
            ],
            "text/html": [
              "\n",
              "  <div id=\"df-17355b71-aa53-4733-80f2-0c8e2fffc6fe\">\n",
              "    <div class=\"colab-df-container\">\n",
              "      <div>\n",
              "<style scoped>\n",
              "    .dataframe tbody tr th:only-of-type {\n",
              "        vertical-align: middle;\n",
              "    }\n",
              "\n",
              "    .dataframe tbody tr th {\n",
              "        vertical-align: top;\n",
              "    }\n",
              "\n",
              "    .dataframe thead th {\n",
              "        text-align: right;\n",
              "    }\n",
              "</style>\n",
              "<table border=\"1\" class=\"dataframe\">\n",
              "  <thead>\n",
              "    <tr style=\"text-align: right;\">\n",
              "      <th></th>\n",
              "      <th>name</th>\n",
              "      <th>picks</th>\n",
              "    </tr>\n",
              "  </thead>\n",
              "  <tbody>\n",
              "    <tr>\n",
              "      <th>0</th>\n",
              "      <td>Adam Ivison</td>\n",
              "      <td>[England, Iran, Uruguay]</td>\n",
              "    </tr>\n",
              "    <tr>\n",
              "      <th>1</th>\n",
              "      <td>Dan Wilson</td>\n",
              "      <td>[Croatia, Ecuador, Germany]</td>\n",
              "    </tr>\n",
              "    <tr>\n",
              "      <th>2</th>\n",
              "      <td>Ryan Lowes</td>\n",
              "      <td>[Denmark, Ghana, Mexico]</td>\n",
              "    </tr>\n",
              "    <tr>\n",
              "      <th>3</th>\n",
              "      <td>Anthony Chapman</td>\n",
              "      <td>[England, Mexico, Spain]</td>\n",
              "    </tr>\n",
              "    <tr>\n",
              "      <th>4</th>\n",
              "      <td>Grant Willis</td>\n",
              "      <td>[Denmark, Qatar, Saudi Arabia]</td>\n",
              "    </tr>\n",
              "    <tr>\n",
              "      <th>5</th>\n",
              "      <td>Jack Maddison</td>\n",
              "      <td>[Ecuador, Mexico, Serbia]</td>\n",
              "    </tr>\n",
              "    <tr>\n",
              "      <th>6</th>\n",
              "      <td>Liam Robson</td>\n",
              "      <td>[Ghana, Morocco, Senegal]</td>\n",
              "    </tr>\n",
              "    <tr>\n",
              "      <th>7</th>\n",
              "      <td>Adam Lowes</td>\n",
              "      <td>[Argentina, Cameroon, Serbia]</td>\n",
              "    </tr>\n",
              "    <tr>\n",
              "      <th>8</th>\n",
              "      <td>Cal Craig</td>\n",
              "      <td>[Morocco, Netherlands, Tunisia]</td>\n",
              "    </tr>\n",
              "    <tr>\n",
              "      <th>9</th>\n",
              "      <td>Liam Smith</td>\n",
              "      <td>[Netherlands, Serbia, Tunisia]</td>\n",
              "    </tr>\n",
              "    <tr>\n",
              "      <th>10</th>\n",
              "      <td>Paul Smith</td>\n",
              "      <td>[Cameroon, England, Portugal]</td>\n",
              "    </tr>\n",
              "    <tr>\n",
              "      <th>11</th>\n",
              "      <td>Ricky Wells</td>\n",
              "      <td>[Belgium, Spain, USA]</td>\n",
              "    </tr>\n",
              "    <tr>\n",
              "      <th>12</th>\n",
              "      <td>Connor Sweeney</td>\n",
              "      <td>[Morocco, Qatar, Senegal]</td>\n",
              "    </tr>\n",
              "    <tr>\n",
              "      <th>13</th>\n",
              "      <td>Will Forrester</td>\n",
              "      <td>[Denmark, Serbia, Switzerland]</td>\n",
              "    </tr>\n",
              "    <tr>\n",
              "      <th>14</th>\n",
              "      <td>Liam Murtha</td>\n",
              "      <td>[Cameroon, Mexico, Uruguay]</td>\n",
              "    </tr>\n",
              "    <tr>\n",
              "      <th>15</th>\n",
              "      <td>Sean Jackson</td>\n",
              "      <td>[Costa Rica, Portugal, Wales]</td>\n",
              "    </tr>\n",
              "    <tr>\n",
              "      <th>16</th>\n",
              "      <td>Chris Royal</td>\n",
              "      <td>[Croatia, Ghana, Iran]</td>\n",
              "    </tr>\n",
              "    <tr>\n",
              "      <th>17</th>\n",
              "      <td>Lee Carrick</td>\n",
              "      <td>[France, Netherlands, Portugal]</td>\n",
              "    </tr>\n",
              "    <tr>\n",
              "      <th>18</th>\n",
              "      <td>Martin Young</td>\n",
              "      <td>[Belgium, Canada, Senegal]</td>\n",
              "    </tr>\n",
              "    <tr>\n",
              "      <th>19</th>\n",
              "      <td>Danielle Young</td>\n",
              "      <td>[Canada, Senegal, Switzerland]</td>\n",
              "    </tr>\n",
              "    <tr>\n",
              "      <th>20</th>\n",
              "      <td>Adam Carrick</td>\n",
              "      <td>[Belgium, Costa Rica, Ecuador]</td>\n",
              "    </tr>\n",
              "    <tr>\n",
              "      <th>21</th>\n",
              "      <td>Georgia Wilson</td>\n",
              "      <td>[Australia, Belgium, Mexico]</td>\n",
              "    </tr>\n",
              "    <tr>\n",
              "      <th>22</th>\n",
              "      <td>Claire Hodkinson</td>\n",
              "      <td>[Belgium, England, Ghana]</td>\n",
              "    </tr>\n",
              "    <tr>\n",
              "      <th>23</th>\n",
              "      <td>Lee Mayne</td>\n",
              "      <td>[Ecuador, Germany, Netherlands]</td>\n",
              "    </tr>\n",
              "    <tr>\n",
              "      <th>24</th>\n",
              "      <td>Helen Wilson</td>\n",
              "      <td>[Costa Rica, Germany, Uruguay]</td>\n",
              "    </tr>\n",
              "  </tbody>\n",
              "</table>\n",
              "</div>\n",
              "      <button class=\"colab-df-convert\" onclick=\"convertToInteractive('df-17355b71-aa53-4733-80f2-0c8e2fffc6fe')\"\n",
              "              title=\"Convert this dataframe to an interactive table.\"\n",
              "              style=\"display:none;\">\n",
              "        \n",
              "  <svg xmlns=\"http://www.w3.org/2000/svg\" height=\"24px\"viewBox=\"0 0 24 24\"\n",
              "       width=\"24px\">\n",
              "    <path d=\"M0 0h24v24H0V0z\" fill=\"none\"/>\n",
              "    <path d=\"M18.56 5.44l.94 2.06.94-2.06 2.06-.94-2.06-.94-.94-2.06-.94 2.06-2.06.94zm-11 1L8.5 8.5l.94-2.06 2.06-.94-2.06-.94L8.5 2.5l-.94 2.06-2.06.94zm10 10l.94 2.06.94-2.06 2.06-.94-2.06-.94-.94-2.06-.94 2.06-2.06.94z\"/><path d=\"M17.41 7.96l-1.37-1.37c-.4-.4-.92-.59-1.43-.59-.52 0-1.04.2-1.43.59L10.3 9.45l-7.72 7.72c-.78.78-.78 2.05 0 2.83L4 21.41c.39.39.9.59 1.41.59.51 0 1.02-.2 1.41-.59l7.78-7.78 2.81-2.81c.8-.78.8-2.07 0-2.86zM5.41 20L4 18.59l7.72-7.72 1.47 1.35L5.41 20z\"/>\n",
              "  </svg>\n",
              "      </button>\n",
              "      \n",
              "  <style>\n",
              "    .colab-df-container {\n",
              "      display:flex;\n",
              "      flex-wrap:wrap;\n",
              "      gap: 12px;\n",
              "    }\n",
              "\n",
              "    .colab-df-convert {\n",
              "      background-color: #E8F0FE;\n",
              "      border: none;\n",
              "      border-radius: 50%;\n",
              "      cursor: pointer;\n",
              "      display: none;\n",
              "      fill: #1967D2;\n",
              "      height: 32px;\n",
              "      padding: 0 0 0 0;\n",
              "      width: 32px;\n",
              "    }\n",
              "\n",
              "    .colab-df-convert:hover {\n",
              "      background-color: #E2EBFA;\n",
              "      box-shadow: 0px 1px 2px rgba(60, 64, 67, 0.3), 0px 1px 3px 1px rgba(60, 64, 67, 0.15);\n",
              "      fill: #174EA6;\n",
              "    }\n",
              "\n",
              "    [theme=dark] .colab-df-convert {\n",
              "      background-color: #3B4455;\n",
              "      fill: #D2E3FC;\n",
              "    }\n",
              "\n",
              "    [theme=dark] .colab-df-convert:hover {\n",
              "      background-color: #434B5C;\n",
              "      box-shadow: 0px 1px 3px 1px rgba(0, 0, 0, 0.15);\n",
              "      filter: drop-shadow(0px 1px 2px rgba(0, 0, 0, 0.3));\n",
              "      fill: #FFFFFF;\n",
              "    }\n",
              "  </style>\n",
              "\n",
              "      <script>\n",
              "        const buttonEl =\n",
              "          document.querySelector('#df-17355b71-aa53-4733-80f2-0c8e2fffc6fe button.colab-df-convert');\n",
              "        buttonEl.style.display =\n",
              "          google.colab.kernel.accessAllowed ? 'block' : 'none';\n",
              "\n",
              "        async function convertToInteractive(key) {\n",
              "          const element = document.querySelector('#df-17355b71-aa53-4733-80f2-0c8e2fffc6fe');\n",
              "          const dataTable =\n",
              "            await google.colab.kernel.invokeFunction('convertToInteractive',\n",
              "                                                     [key], {});\n",
              "          if (!dataTable) return;\n",
              "\n",
              "          const docLinkHtml = 'Like what you see? Visit the ' +\n",
              "            '<a target=\"_blank\" href=https://colab.research.google.com/notebooks/data_table.ipynb>data table notebook</a>'\n",
              "            + ' to learn more about interactive tables.';\n",
              "          element.innerHTML = '';\n",
              "          dataTable['output_type'] = 'display_data';\n",
              "          await google.colab.output.renderOutput(dataTable, element);\n",
              "          const docLink = document.createElement('div');\n",
              "          docLink.innerHTML = docLinkHtml;\n",
              "          element.appendChild(docLink);\n",
              "        }\n",
              "      </script>\n",
              "    </div>\n",
              "  </div>\n",
              "  "
            ]
          },
          "metadata": {},
          "execution_count": 6
        }
      ]
    },
    {
      "cell_type": "code",
      "source": [
        "# Write the picks out to a file\n",
        "df_players_picks.to_csv(\"df_players_picks.csv\", index=False)"
      ],
      "metadata": {
        "id": "-Vv8MktbR8W3"
      },
      "execution_count": 7,
      "outputs": []
    },
    {
      "cell_type": "code",
      "source": [
        "# Check that all the picks are unique\n",
        "len(df_players_picks[\"picks\"].drop_duplicates()) == len(df_players_picks.index)"
      ],
      "metadata": {
        "colab": {
          "base_uri": "https://localhost:8080/"
        },
        "id": "xKrZw4e85x7B",
        "outputId": "2d868327-19c9-4b5a-bb8e-eb59ba2aa988"
      },
      "execution_count": 8,
      "outputs": [
        {
          "output_type": "execute_result",
          "data": {
            "text/plain": [
              "True"
            ]
          },
          "metadata": {},
          "execution_count": 8
        }
      ]
    }
  ]
}